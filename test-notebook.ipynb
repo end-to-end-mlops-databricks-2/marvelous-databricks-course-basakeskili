{
 "cells": [
  {
   "cell_type": "markdown",
   "metadata": {
    "application/vnd.databricks.v1+cell": {
     "cellMetadata": {},
     "inputWidgets": {},
     "nuid": "43844a70-ea08-41f1-9ec7-b6ed3a95cef0",
     "showTitle": false,
     "tableResultSettingsMap": {},
     "title": ""
    }
   },
   "source": [
    "## House Price Prediction Exercise"
   ]
  },
  {
   "cell_type": "markdown",
   "metadata": {
    "application/vnd.databricks.v1+cell": {
     "cellMetadata": {},
     "inputWidgets": {},
     "nuid": "6d89f705-3c6f-4fe8-93f4-1d8438f8b929",
     "showTitle": false,
     "tableResultSettingsMap": {},
     "title": ""
    }
   },
   "source": [
    "## Importing Required Libraries"
   ]
  },
  {
   "cell_type": "code",
   "execution_count": 0,
   "metadata": {
    "application/vnd.databricks.v1+cell": {
     "cellMetadata": {
      "byteLimit": 2048000,
      "rowLimit": 10000
     },
     "inputWidgets": {},
     "nuid": "96e23887-99d3-4d86-a4c9-2e3a4c1a29cf",
     "showTitle": false,
     "tableResultSettingsMap": {},
     "title": ""
    }
   },
   "outputs": [],
   "source": [
    "import pandas as pd\n",
    "import datetime\n",
    "import yaml \n",
    "from sklearn.model_selection import train_test_split"
   ]
  },
  {
   "cell_type": "code",
   "execution_count": 0,
   "metadata": {
    "application/vnd.databricks.v1+cell": {
     "cellMetadata": {
      "byteLimit": 2048000,
      "rowLimit": 10000
     },
     "inputWidgets": {},
     "nuid": "495a7df1-c57e-4d3b-b972-525a3954363f",
     "showTitle": false,
     "tableResultSettingsMap": {},
     "title": ""
    }
   },
   "outputs": [],
   "source": [
    "# Only works in a Databricks environment if the data is there\n",
    "filepath = \"/Volumes/mlops_dev/house_prices/data/data.csv\"\n",
    "# Load the data\n",
    "df = pd.read_csv(filepath)\n",
    "df\n"
   ]
  },
  {
   "cell_type": "markdown",
   "metadata": {
    "application/vnd.databricks.v1+cell": {
     "cellMetadata": {},
     "inputWidgets": {},
     "nuid": "be839ba2-1e0c-42f5-8161-5fce093136a2",
     "showTitle": false,
     "tableResultSettingsMap": {},
     "title": ""
    }
   },
   "source": [
    "## Preprocessing"
   ]
  },
  {
   "cell_type": "code",
   "execution_count": 0,
   "metadata": {
    "application/vnd.databricks.v1+cell": {
     "cellMetadata": {},
     "inputWidgets": {},
     "nuid": "68d2da7c-86b3-4112-a1b4-449227e6fe5b",
     "showTitle": false,
     "tableResultSettingsMap": {},
     "title": ""
    }
   },
   "outputs": [],
   "source": [
    "\n",
    "# Handle missing values and convert data types as needed\n",
    "df[\"LotFrontage\"] = pd.to_numeric(df[\"LotFrontage\"], errors=\"coerce\")\n",
    "\n",
    "df[\"GarageYrBlt\"] = pd.to_numeric(df[\"GarageYrBlt\"], errors=\"coerce\")\n",
    "median_year = df[\"GarageYrBlt\"].median()\n",
    "df[\"GarageYrBlt\"].fillna(median_year, inplace=True)\n",
    "current_year = datetime.now().year\n",
    "\n",
    "df[\"GarageAge\"] = current_year - df[\"GarageYrBlt\"]\n",
    "df.drop(columns=[\"GarageYrBlt\"], inplace=True)\n",
    "\n",
    "# Handle numeric features\n",
    "num_features = config.num_features\n",
    "for col in num_features:\n",
    "    df[col] = pd.to_numeric(df[col], errors=\"coerce\")\n",
    "\n",
    "# Fill missing values with mean or default values\n",
    "df.fillna(\n",
    "    {\n",
    "        \"LotFrontage\": df[\"LotFrontage\"].mean(),\n",
    "        \"MasVnrType\": \"None\",\n",
    "        \"MasVnrArea\": 0,\n",
    "    },\n",
    "    inplace=True,\n",
    ")\n",
    "\n",
    "# Convert categorical features to the appropriate type\n",
    "cat_features = config.cat_features\n",
    "for cat_col in cat_features:\n",
    "     df[cat_col] = df[cat_col].astype(\"category\")\n",
    "\n",
    "# Extract target and relevant features\n",
    "target = config.target\n",
    "relevant_columns = cat_features + num_features + [target] + [\"Id\"]\n",
    "df = df[relevant_columns]\n",
    "df[\"Id\"] = df[\"Id\"].astype(\"str\")\n",
    "\n",
    "train_set, test_set = train_test_split(df, test_size=0.2, random_state=42)\n"
   ]
  }
 ],
 "metadata": {
  "application/vnd.databricks.v1+notebook": {
   "computePreferences": null,
   "dashboards": [],
   "environmentMetadata": {
    "base_environment": "",
    "client": "2"
   },
   "language": "python",
   "notebookMetadata": {
    "pythonIndentUnit": 4
   },
   "notebookName": "test-notebook",
   "widgets": {}
  },
  "language_info": {
   "name": "python"
  }
 },
 "nbformat": 4,
 "nbformat_minor": 0
}
